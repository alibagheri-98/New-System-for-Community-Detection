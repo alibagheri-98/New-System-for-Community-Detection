{
 "cells": [
  {
   "cell_type": "code",
   "execution_count": 24,
   "metadata": {},
   "outputs": [],
   "source": [
    "import json\n",
    " \n",
    "# Opening JSON file\n",
    "with open('../data/fundemental6000 (1).json') as json_file:\n",
    "    data = json.load(json_file)\n"
   ]
  },
  {
   "cell_type": "code",
   "execution_count": 31,
   "metadata": {},
   "outputs": [],
   "source": [
    "# data.keys()\n"
   ]
  },
  {
   "cell_type": "code",
   "execution_count": 26,
   "metadata": {},
   "outputs": [],
   "source": [
    "stock_names = list(data.keys())#['OMER']"
   ]
  },
  {
   "cell_type": "markdown",
   "metadata": {},
   "source": [
    "Load names of 6000 shares :"
   ]
  },
  {
   "cell_type": "code",
   "execution_count": 27,
   "metadata": {},
   "outputs": [
    {
     "data": {
      "text/plain": [
       "array(['OMER', 'CGAU', 'BFC', ..., 'EDIT', '0267.HK', 'CPF'], dtype='<U14')"
      ]
     },
     "execution_count": 27,
     "metadata": {},
     "output_type": "execute_result"
    }
   ],
   "source": [
    "import numpy as np\n",
    "names= np.load('../data/6000_names.npy')\n",
    "names"
   ]
  },
  {
   "cell_type": "code",
   "execution_count": 56,
   "metadata": {},
   "outputs": [
    {
     "data": {
      "text/plain": [
       "True"
      ]
     },
     "execution_count": 56,
     "metadata": {},
     "output_type": "execute_result"
    }
   ],
   "source": [
    "str(type(data[names[137]])) == \"<class 'NoneType'>\""
   ]
  },
  {
   "cell_type": "code",
   "execution_count": 61,
   "metadata": {},
   "outputs": [],
   "source": [
    "selected_data = []\n",
    "selected_names = []\n",
    "selected_names_id = []\n",
    "\n",
    "for inx,name in enumerate(names):\n",
    "\n",
    "    if str(type(data[name])) != \"<class 'NoneType'>\":    \n",
    "        temp = data[name].keys()\n",
    "        if 'longBusinessSummary' in temp and 'country' in temp and 'forwardPE' in temp and 'beta' in temp and 'industry' in temp: \n",
    "\n",
    "            selected_data.append((data[name]['longBusinessSummary'] ,  data[name]['country'] , data[name]['industry'] ,data[name]['sector'],data[name]['forwardPE'],data[name]['beta']))\n",
    "            selected_names.append(name)\n",
    "            selected_names_id.append(inx)"
   ]
  },
  {
   "cell_type": "code",
   "execution_count": 64,
   "metadata": {},
   "outputs": [
    {
     "data": {
      "text/plain": [
       "5441"
      ]
     },
     "execution_count": 64,
     "metadata": {},
     "output_type": "execute_result"
    }
   ],
   "source": [
    "len(selected_names_id)"
   ]
  },
  {
   "cell_type": "code",
   "execution_count": 72,
   "metadata": {},
   "outputs": [],
   "source": [
    "import pandas as pd\n",
    "df = pd.DataFrame(selected_data)\n",
    "df.index = selected_names\n",
    "df.columns = ['longBusinessSummary', 'country','industry','sector','forwardPE','beta']"
   ]
  },
  {
   "cell_type": "code",
   "execution_count": 73,
   "metadata": {},
   "outputs": [
    {
     "data": {
      "text/html": [
       "<div>\n",
       "<style scoped>\n",
       "    .dataframe tbody tr th:only-of-type {\n",
       "        vertical-align: middle;\n",
       "    }\n",
       "\n",
       "    .dataframe tbody tr th {\n",
       "        vertical-align: top;\n",
       "    }\n",
       "\n",
       "    .dataframe thead th {\n",
       "        text-align: right;\n",
       "    }\n",
       "</style>\n",
       "<table border=\"1\" class=\"dataframe\">\n",
       "  <thead>\n",
       "    <tr style=\"text-align: right;\">\n",
       "      <th></th>\n",
       "      <th>longBusinessSummary</th>\n",
       "      <th>country</th>\n",
       "      <th>industry</th>\n",
       "      <th>sector</th>\n",
       "      <th>forwardPE</th>\n",
       "      <th>beta</th>\n",
       "    </tr>\n",
       "  </thead>\n",
       "  <tbody>\n",
       "    <tr>\n",
       "      <th>OMER</th>\n",
       "      <td>Omeros Corporation, a clinical-stage biopharma...</td>\n",
       "      <td>United States</td>\n",
       "      <td>Biotechnology</td>\n",
       "      <td>Healthcare</td>\n",
       "      <td>-1.462687</td>\n",
       "      <td>0.957814</td>\n",
       "    </tr>\n",
       "    <tr>\n",
       "      <th>CGAU</th>\n",
       "      <td>Centerra Gold Inc., a gold mining company, eng...</td>\n",
       "      <td>Canada</td>\n",
       "      <td>Gold</td>\n",
       "      <td>Basic Materials</td>\n",
       "      <td>5.580645</td>\n",
       "      <td>1.039580</td>\n",
       "    </tr>\n",
       "    <tr>\n",
       "      <th>BFC</th>\n",
       "      <td>Bank First Corporation operates as a holding c...</td>\n",
       "      <td>United States</td>\n",
       "      <td>Banks—Regional</td>\n",
       "      <td>Financial Services</td>\n",
       "      <td>14.056655</td>\n",
       "      <td>0.340248</td>\n",
       "    </tr>\n",
       "    <tr>\n",
       "      <th>US.MI</th>\n",
       "      <td>UnipolSai Assicurazioni S.p.A. operates as an ...</td>\n",
       "      <td>Italy</td>\n",
       "      <td>Insurance—Diversified</td>\n",
       "      <td>Financial Services</td>\n",
       "      <td>8.307142</td>\n",
       "      <td>0.637387</td>\n",
       "    </tr>\n",
       "    <tr>\n",
       "      <th>001979.SZ</th>\n",
       "      <td>China Merchants Shekou Industrial Zone Holding...</td>\n",
       "      <td>China</td>\n",
       "      <td>Real Estate—Development</td>\n",
       "      <td>Real Estate</td>\n",
       "      <td>11.867925</td>\n",
       "      <td>0.335771</td>\n",
       "    </tr>\n",
       "  </tbody>\n",
       "</table>\n",
       "</div>"
      ],
      "text/plain": [
       "                                         longBusinessSummary        country  \\\n",
       "OMER       Omeros Corporation, a clinical-stage biopharma...  United States   \n",
       "CGAU       Centerra Gold Inc., a gold mining company, eng...         Canada   \n",
       "BFC        Bank First Corporation operates as a holding c...  United States   \n",
       "US.MI      UnipolSai Assicurazioni S.p.A. operates as an ...          Italy   \n",
       "001979.SZ  China Merchants Shekou Industrial Zone Holding...          China   \n",
       "\n",
       "                          industry              sector  forwardPE      beta  \n",
       "OMER                 Biotechnology          Healthcare  -1.462687  0.957814  \n",
       "CGAU                          Gold     Basic Materials   5.580645  1.039580  \n",
       "BFC                 Banks—Regional  Financial Services  14.056655  0.340248  \n",
       "US.MI        Insurance—Diversified  Financial Services   8.307142  0.637387  \n",
       "001979.SZ  Real Estate—Development         Real Estate  11.867925  0.335771  "
      ]
     },
     "execution_count": 73,
     "metadata": {},
     "output_type": "execute_result"
    }
   ],
   "source": [
    "df.head()"
   ]
  },
  {
   "cell_type": "code",
   "execution_count": 81,
   "metadata": {},
   "outputs": [
    {
     "data": {
      "text/plain": [
       "(63, 145, 11)"
      ]
     },
     "execution_count": 81,
     "metadata": {},
     "output_type": "execute_result"
    }
   ],
   "source": [
    "len(df['country'].unique()) , len(df['industry'].unique()), len(df['sector'].unique())"
   ]
  },
  {
   "cell_type": "code",
   "execution_count": 75,
   "metadata": {},
   "outputs": [],
   "source": [
    "# df.to_csv('../data/processed/fundemental.csv')"
   ]
  },
  {
   "cell_type": "code",
   "execution_count": 84,
   "metadata": {},
   "outputs": [],
   "source": [
    "np.save('selected_names',np.array(selected_names))\n",
    "np.save('selected_names_id',np.array(selected_names_id))"
   ]
  }
 ],
 "metadata": {
  "kernelspec": {
   "display_name": "Python 3.9.17 ('alzheimer')",
   "language": "python",
   "name": "python3"
  },
  "language_info": {
   "codemirror_mode": {
    "name": "ipython",
    "version": 3
   },
   "file_extension": ".py",
   "mimetype": "text/x-python",
   "name": "python",
   "nbconvert_exporter": "python",
   "pygments_lexer": "ipython3",
   "version": "3.9.17"
  },
  "orig_nbformat": 4,
  "vscode": {
   "interpreter": {
    "hash": "25b05e4795a1531d3b55a0058bc302082de6595a5bd8f40643b8c42ae422adc8"
   }
  }
 },
 "nbformat": 4,
 "nbformat_minor": 2
}
