{
 "cells": [
  {
   "cell_type": "markdown",
   "metadata": {},
   "source": [
    "\n",
    "##  Text embedding (using Large BERT)"
   ]
  },
  {
   "cell_type": "code",
   "execution_count": 1,
   "metadata": {},
   "outputs": [],
   "source": [
    "import os\n",
    "import torch\n",
    "import torch.nn as nn\n",
    "from transformers import BertModel, BertTokenizer\n",
    "import torch.functional as F\n",
    "import pickle\n",
    "import numpy as np"
   ]
  },
  {
   "cell_type": "code",
   "execution_count": 2,
   "metadata": {},
   "outputs": [],
   "source": [
    "\n",
    "device = torch.device(\"cuda\" if torch.cuda.is_available() else \"cpu\")\n",
    "\n",
    "# Load pre-trained BERT model and tokenizer\n",
    "model_name = 'bert-large-uncased'\n",
    "tokenizer = BertTokenizer.from_pretrained(model_name)\n",
    "bert_model = BertModel.from_pretrained(model_name)\n",
    "\n",
    "# Define your binary classification model\n",
    "class BERT_Embedder(nn.Module):\n",
    "    def __init__(self, bert_modele,tokenizer):\n",
    "        super(BERT_Embedder, self).__init__()\n",
    "        self.bert = bert_modele\n",
    "        self.tokenizer = tokenizer\n",
    "        self.dropout = nn.Dropout(0.1)  \n",
    "        \n",
    "        \n",
    "    def forward(self, input_text):\n",
    "        inputs = self.tokenizer(input_text, return_tensors=\"pt\").to(device)\n",
    "        outputs = self.bert(**inputs)\n",
    "        last_hidden_states = outputs.last_hidden_state[0][0]\n",
    "        \n",
    "        # pooled_output = torch.flatten(self.dropout(last_hidden_states))\n",
    "        \n",
    "        return last_hidden_states#pooled_output\n"
   ]
  },
  {
   "cell_type": "code",
   "execution_count": 3,
   "metadata": {},
   "outputs": [],
   "source": [
    "my_embedder = BERT_Embedder(bert_model,tokenizer).to(device)"
   ]
  },
  {
   "cell_type": "markdown",
   "metadata": {},
   "source": [
    "Load dataset :\n"
   ]
  },
  {
   "cell_type": "code",
   "execution_count": 180,
   "metadata": {},
   "outputs": [
    {
     "data": {
      "text/html": [
       "<div>\n",
       "<style scoped>\n",
       "    .dataframe tbody tr th:only-of-type {\n",
       "        vertical-align: middle;\n",
       "    }\n",
       "\n",
       "    .dataframe tbody tr th {\n",
       "        vertical-align: top;\n",
       "    }\n",
       "\n",
       "    .dataframe thead th {\n",
       "        text-align: right;\n",
       "    }\n",
       "</style>\n",
       "<table border=\"1\" class=\"dataframe\">\n",
       "  <thead>\n",
       "    <tr style=\"text-align: right;\">\n",
       "      <th></th>\n",
       "      <th>longBusinessSummary</th>\n",
       "      <th>country</th>\n",
       "      <th>industry</th>\n",
       "      <th>sector</th>\n",
       "      <th>forwardPE</th>\n",
       "      <th>beta</th>\n",
       "    </tr>\n",
       "  </thead>\n",
       "  <tbody>\n",
       "    <tr>\n",
       "      <th>OMER</th>\n",
       "      <td>Omeros Corporation, a clinical-stage biopharma...</td>\n",
       "      <td>United States</td>\n",
       "      <td>Biotechnology</td>\n",
       "      <td>Healthcare</td>\n",
       "      <td>-1.462687</td>\n",
       "      <td>0.957814</td>\n",
       "    </tr>\n",
       "    <tr>\n",
       "      <th>CGAU</th>\n",
       "      <td>Centerra Gold Inc., a gold mining company, eng...</td>\n",
       "      <td>Canada</td>\n",
       "      <td>Gold</td>\n",
       "      <td>Basic Materials</td>\n",
       "      <td>5.580645</td>\n",
       "      <td>1.039580</td>\n",
       "    </tr>\n",
       "    <tr>\n",
       "      <th>BFC</th>\n",
       "      <td>Bank First Corporation operates as a holding c...</td>\n",
       "      <td>United States</td>\n",
       "      <td>Banks—Regional</td>\n",
       "      <td>Financial Services</td>\n",
       "      <td>14.056655</td>\n",
       "      <td>0.340248</td>\n",
       "    </tr>\n",
       "    <tr>\n",
       "      <th>US.MI</th>\n",
       "      <td>UnipolSai Assicurazioni S.p.A. operates as an ...</td>\n",
       "      <td>Italy</td>\n",
       "      <td>Insurance—Diversified</td>\n",
       "      <td>Financial Services</td>\n",
       "      <td>8.307142</td>\n",
       "      <td>0.637387</td>\n",
       "    </tr>\n",
       "    <tr>\n",
       "      <th>001979.SZ</th>\n",
       "      <td>China Merchants Shekou Industrial Zone Holding...</td>\n",
       "      <td>China</td>\n",
       "      <td>Real Estate—Development</td>\n",
       "      <td>Real Estate</td>\n",
       "      <td>11.867925</td>\n",
       "      <td>0.335771</td>\n",
       "    </tr>\n",
       "  </tbody>\n",
       "</table>\n",
       "</div>"
      ],
      "text/plain": [
       "                                         longBusinessSummary        country  \\\n",
       "OMER       Omeros Corporation, a clinical-stage biopharma...  United States   \n",
       "CGAU       Centerra Gold Inc., a gold mining company, eng...         Canada   \n",
       "BFC        Bank First Corporation operates as a holding c...  United States   \n",
       "US.MI      UnipolSai Assicurazioni S.p.A. operates as an ...          Italy   \n",
       "001979.SZ  China Merchants Shekou Industrial Zone Holding...          China   \n",
       "\n",
       "                          industry              sector  forwardPE      beta  \n",
       "OMER                 Biotechnology          Healthcare  -1.462687  0.957814  \n",
       "CGAU                          Gold     Basic Materials   5.580645  1.039580  \n",
       "BFC                 Banks—Regional  Financial Services  14.056655  0.340248  \n",
       "US.MI        Insurance—Diversified  Financial Services   8.307142  0.637387  \n",
       "001979.SZ  Real Estate—Development         Real Estate  11.867925  0.335771  "
      ]
     },
     "execution_count": 180,
     "metadata": {},
     "output_type": "execute_result"
    }
   ],
   "source": [
    "import pandas as pd\n",
    "df = pd.read_csv('../data/processed/fundemental.csv',index_col=0)\n",
    "df.head()"
   ]
  },
  {
   "cell_type": "code",
   "execution_count": 19,
   "metadata": {},
   "outputs": [
    {
     "data": {
      "text/plain": [
       "\"Dabur India Limited operates as a fast-moving consumer goods company worldwide. It operates through Consumer Care Business, Foods Business, Retail Business, and Other segments. The company manufactures and sells health supplements under the Dabur Chyawanprash, Dabur Vita, Dabur Honey, Dabur Immunity Kit, Dabur Vedic Suraksha Tea, and Dabur Glucose brands; digestive products under the Dabur Hajmola, Pudin Hara, Hingoli, Dabur Nature Care, and Sat Isabgol brands; and shampoos under the Dabur Almond and Vatika brands. It also offers hair oils under the Dabur Amla, Vatika, Dabur Almond, and Anmol brands; skin care products under the Dabur Gulabari, Oxylife, and Dabur Fem brands; and oral care products under the Dabur Red Paste, Dabur Meswak, Dabur Babool, Dabur Lal Dant Manjan, Dabur Red Pulling Oil, and Dabur Dant Rakshak Ayurvedic Paste brands. In addition, the company provides fruit juices under the Real and Real Activ brands; various cooking pastes under the Hommade brand; and milk-based beverages under the Real Milk Power brand. Further, it offers energizers and rejuvenators under the Shilajit, Shilajit Gold, Shilajit Double Gold, and Dabur Musli Gold names; cough and cold products under the Dabur Honitus and Dabur Tulsi Drops brands name; health juices; women's health products, such as Dabur Dashmularishta and Dabur Ashokarishta; ayurvedic baby massage oil for babies under the Dabur Lal Tail name; and ayurvedic ethical products. Additionally, the company provides mosquito repellents under the Odomos brand name; air fresheners under the Odonil name; toilet cleaners under the Sanifresh Shine brand name; dish wash products under the Odopic name; and natural gum products under brand name DABISCO. It also operates specialized beauty retail stores that offer a range of cosmetics, fragrances, skin care, and personal care products, as well as beauty and fashion accessories under the NewU brand name. Dabur India Limited was founded in 1884 and is based in Ghaziabad, India.\""
      ]
     },
     "execution_count": 19,
     "metadata": {},
     "output_type": "execute_result"
    }
   ],
   "source": [
    "all_texts = df['longBusinessSummary'].to_list()\n",
    "all_texts[223]"
   ]
  },
  {
   "cell_type": "code",
   "execution_count": 10,
   "metadata": {},
   "outputs": [],
   "source": [
    "X_embedded = []"
   ]
  },
  {
   "cell_type": "code",
   "execution_count": 92,
   "metadata": {},
   "outputs": [
    {
     "name": "stdout",
     "output_type": "stream",
     "text": [
      "5434\n",
      "5435\n",
      "5436\n",
      "5437\n",
      "5438\n",
      "5439\n",
      "5440\n"
     ]
    }
   ],
   "source": [
    "X_embedded = []  #  223,1164,1252,1380,1491,1767,1832,2159,2245,2462,2832,2963,2969,3499,3587,3951,3994,4480,4679,4805,4810,5406,5433\n",
    "for index,text in enumerate(all_texts):\n",
    "    if index>5433:\n",
    "        X_embedded.append(list(torch.detach(torch.Tensor.cpu(my_embedder(text))).numpy()))\n",
    "        print(index)"
   ]
  },
  {
   "cell_type": "code",
   "execution_count": 93,
   "metadata": {},
   "outputs": [
    {
     "data": {
      "text/plain": [
       "(7, 1024)"
      ]
     },
     "execution_count": 93,
     "metadata": {},
     "output_type": "execute_result"
    }
   ],
   "source": [
    "np.shape(X_embedded)"
   ]
  },
  {
   "cell_type": "code",
   "execution_count": 94,
   "metadata": {},
   "outputs": [],
   "source": [
    "np.save('text_embedding23',np.array(X_embedded))"
   ]
  },
  {
   "cell_type": "markdown",
   "metadata": {},
   "source": [
    "---"
   ]
  },
  {
   "cell_type": "code",
   "execution_count": 124,
   "metadata": {},
   "outputs": [],
   "source": [
    "dellist = [223,1164,1252,1380,1491,1767,1832,2159,2245,2462,2832,2963,2969,3499,3587,3951,3994,4480,4679,4805,4810,5406,5433]"
   ]
  }
 ],
 "metadata": {
  "kernelspec": {
   "display_name": "Python 3.9.17 ('alzheimer')",
   "language": "python",
   "name": "python3"
  },
  "language_info": {
   "codemirror_mode": {
    "name": "ipython",
    "version": 3
   },
   "file_extension": ".py",
   "mimetype": "text/x-python",
   "name": "python",
   "nbconvert_exporter": "python",
   "pygments_lexer": "ipython3",
   "version": "3.9.17"
  },
  "orig_nbformat": 4,
  "vscode": {
   "interpreter": {
    "hash": "25b05e4795a1531d3b55a0058bc302082de6595a5bd8f40643b8c42ae422adc8"
   }
  }
 },
 "nbformat": 4,
 "nbformat_minor": 2
}
