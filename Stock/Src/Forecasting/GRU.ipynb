{
 "cells": [
  {
   "cell_type": "code",
   "execution_count": 7,
   "metadata": {},
   "outputs": [],
   "source": [
    "\n",
    "import torch\n",
    "import torch.nn as nn\n",
    "from torch.autograd import Variable\n",
    "import pandas as pd\n",
    "import seaborn as sns\n",
    "import matplotlib.pyplot as plt"
   ]
  },
  {
   "cell_type": "code",
   "execution_count": 8,
   "metadata": {},
   "outputs": [
    {
     "data": {
      "text/plain": [
       "device(type='cpu')"
      ]
     },
     "execution_count": 8,
     "metadata": {},
     "output_type": "execute_result"
    }
   ],
   "source": [
    "device = torch.device(\"cuda\" if torch.cuda.is_available() else \"cpu\")\n",
    "device"
   ]
  },
  {
   "cell_type": "markdown",
   "metadata": {},
   "source": [
    "model architecture :"
   ]
  },
  {
   "cell_type": "code",
   "execution_count": 24,
   "metadata": {},
   "outputs": [],
   "source": [
    "class GRUNet(nn.Module):\n",
    "    def __init__(self, input_dim, hidden_dim, output_dim, num_layers):\n",
    "        super(GRUNet, self).__init__()\n",
    "        self.hidden_dim = hidden_dim\n",
    "        self.num_layers = num_layers\n",
    "        self.gru = nn.GRU(input_dim, hidden_dim, num_layers, batch_first=True)\n",
    "        self.fc = nn.Linear(hidden_dim, output_dim)\n",
    "\n",
    "    def forward(self, x):\n",
    "        h0 = Variable(torch.zeros(self.num_layers, x.size(0), self.hidden_dim)).to(device=device)\n",
    "        out, _ = self.gru(x, h0)#[:, -1, :].unsqueeze(0))\n",
    "        out = self.fc(out[:,90:,:])\n",
    "        return out"
   ]
  },
  {
   "cell_type": "markdown",
   "metadata": {},
   "source": [
    "Prepare dataset:"
   ]
  },
  {
   "cell_type": "code",
   "execution_count": 6,
   "metadata": {},
   "outputs": [],
   "source": [
    "ratio = 'BTC-USD'\n",
    "dataset = f'crypto_data/{ratio}.csv' \n",
    "data = pd.read_csv(dataset, names=['time', 'low', 'high', 'open', 'close', 'volume'])  # read in specific file\n"
   ]
  },
  {
   "cell_type": "code",
   "execution_count": 7,
   "metadata": {},
   "outputs": [],
   "source": [
    "import pandas as pd\n",
    "import numpy as np\n",
    "\n",
    "# Normalize the data\n",
    "data = (data - data.mean()) / data.std()\n",
    "\n",
    "# Convert the DataFrame to a Torch tensor\n",
    "data_tensor = torch.from_numpy(data.values).float()\n",
    "\n",
    "# Split the data into input and target sequences\n",
    "input_seq = []\n",
    "target_seq = []\n",
    "seq_length = 100\n",
    "pred_length = 10\n",
    "\n",
    "for i in range(len(data) - seq_length - pred_length):\n",
    "    input_seq.append(data_tensor[i:i+seq_length, 1:])\n",
    "    target_seq.append(data_tensor[i+seq_length:i+seq_length+pred_length, -2])"
   ]
  },
  {
   "cell_type": "markdown",
   "metadata": {},
   "source": [
    "target $\\rightarrow$ close"
   ]
  },
  {
   "cell_type": "code",
   "execution_count": 8,
   "metadata": {},
   "outputs": [
    {
     "data": {
      "text/plain": [
       "(torch.Size([100, 5]), 97614)"
      ]
     },
     "execution_count": 8,
     "metadata": {},
     "output_type": "execute_result"
    }
   ],
   "source": [
    "input_seq[0].shape , len(input_seq)"
   ]
  },
  {
   "cell_type": "code",
   "execution_count": 9,
   "metadata": {},
   "outputs": [
    {
     "data": {
      "text/plain": [
       "torch.Size([10])"
      ]
     },
     "execution_count": 9,
     "metadata": {},
     "output_type": "execute_result"
    }
   ],
   "source": [
    "target_seq[0].shape"
   ]
  },
  {
   "cell_type": "code",
   "execution_count": 10,
   "metadata": {},
   "outputs": [],
   "source": [
    "input_seq = torch.stack(input_seq)\n",
    "target_seq = torch.stack(target_seq)"
   ]
  },
  {
   "cell_type": "code",
   "execution_count": 11,
   "metadata": {},
   "outputs": [
    {
     "data": {
      "text/plain": [
       "(torch.Size([97614, 100, 5]), torch.Size([97614, 10]))"
      ]
     },
     "execution_count": 11,
     "metadata": {},
     "output_type": "execute_result"
    }
   ],
   "source": [
    "input_seq.shape , target_seq.shape"
   ]
  },
  {
   "cell_type": "markdown",
   "metadata": {},
   "source": [
    "Set the hyperparameters :\n"
   ]
  },
  {
   "cell_type": "code",
   "execution_count": 12,
   "metadata": {},
   "outputs": [],
   "source": [
    "input_dim = 5\n",
    "hidden_dim = 64\n",
    "output_dim = 1\n",
    "num_layers = 2\n",
    "num_epochs = 100\n",
    "learning_rate = 0.001\n",
    "\n",
    "batch_size = 32  # Set your desired batch size"
   ]
  },
  {
   "cell_type": "markdown",
   "metadata": {},
   "source": [
    " Initialize the model :\n"
   ]
  },
  {
   "cell_type": "code",
   "execution_count": 30,
   "metadata": {},
   "outputs": [],
   "source": [
    "\n",
    "model = GRUNet(input_dim, hidden_dim, output_dim, num_layers).to(device=device)"
   ]
  },
  {
   "cell_type": "code",
   "execution_count": 32,
   "metadata": {},
   "outputs": [
    {
     "data": {
      "text/plain": [
       "torch.Size([3, 10, 1])"
      ]
     },
     "execution_count": 32,
     "metadata": {},
     "output_type": "execute_result"
    }
   ],
   "source": [
    "model(torch.rand(3,100,5).to(device=device)).shape"
   ]
  },
  {
   "cell_type": "markdown",
   "metadata": {},
   "source": [
    " Define the loss function and the optimizer :\n"
   ]
  },
  {
   "cell_type": "code",
   "execution_count": 33,
   "metadata": {},
   "outputs": [],
   "source": [
    "\n",
    "criterion = nn.MSELoss()\n",
    "optimizer = torch.optim.Adam(model.parameters(), lr=learning_rate)"
   ]
  },
  {
   "cell_type": "markdown",
   "metadata": {},
   "source": [
    " Train the model :\n"
   ]
  },
  {
   "cell_type": "code",
   "execution_count": 34,
   "metadata": {},
   "outputs": [],
   "source": [
    "from torch.utils.data import DataLoader,Dataset\n",
    "from tqdm import tqdm\n"
   ]
  },
  {
   "cell_type": "markdown",
   "metadata": {},
   "source": [
    "define `DataLoader` :"
   ]
  },
  {
   "cell_type": "code",
   "execution_count": 35,
   "metadata": {},
   "outputs": [],
   "source": [
    "class StockDataset(Dataset):\n",
    "    def __init__(self, X, y):\n",
    "        self.X = X\n",
    "        self.y = y\n",
    "\n",
    "    def __len__(self):\n",
    "        return len(self.X)\n",
    "\n",
    "    def __getitem__(self, idx):\n",
    "        return self.X[idx], self.y[idx]"
   ]
  },
  {
   "cell_type": "code",
   "execution_count": 36,
   "metadata": {},
   "outputs": [],
   "source": [
    "dataset = StockDataset(input_seq, target_seq)"
   ]
  },
  {
   "cell_type": "code",
   "execution_count": 37,
   "metadata": {},
   "outputs": [],
   "source": [
    "dataloader = DataLoader(dataset, batch_size=batch_size, shuffle=True)"
   ]
  },
  {
   "cell_type": "code",
   "execution_count": 38,
   "metadata": {},
   "outputs": [
    {
     "name": "stderr",
     "output_type": "stream",
     "text": [
      "  0%|          | 10/3051 [00:00<00:03, 798.95it/s]"
     ]
    },
    {
     "name": "stdout",
     "output_type": "stream",
     "text": [
      "torch.Size([32, 10])    <<>>    torch.Size([32, 100, 5])\n",
      "torch.Size([32, 10])    <<>>    torch.Size([32, 100, 5])\n",
      "torch.Size([32, 10])    <<>>    torch.Size([32, 100, 5])\n",
      "torch.Size([32, 10])    <<>>    torch.Size([32, 100, 5])\n",
      "torch.Size([32, 10])    <<>>    torch.Size([32, 100, 5])\n",
      "torch.Size([32, 10])    <<>>    torch.Size([32, 100, 5])\n",
      "torch.Size([32, 10])    <<>>    torch.Size([32, 100, 5])\n",
      "torch.Size([32, 10])    <<>>    torch.Size([32, 100, 5])\n",
      "torch.Size([32, 10])    <<>>    torch.Size([32, 100, 5])\n",
      "torch.Size([32, 10])    <<>>    torch.Size([32, 100, 5])\n",
      "torch.Size([32, 10])    <<>>    torch.Size([32, 100, 5])\n"
     ]
    },
    {
     "name": "stderr",
     "output_type": "stream",
     "text": [
      "\n"
     ]
    }
   ],
   "source": [
    "for batch_idx, (data, targets) in enumerate(tqdm(dataloader)):\n",
    "    print(targets.shape, \"   <<>>   \",data.shape)\n",
    "    \n",
    "    if batch_idx == 10:\n",
    "        break\n",
    "    "
   ]
  },
  {
   "cell_type": "code",
   "execution_count": 40,
   "metadata": {},
   "outputs": [
    {
     "data": {
      "text/plain": [
       "torch.Size([32, 10, 1])"
      ]
     },
     "execution_count": 40,
     "metadata": {},
     "output_type": "execute_result"
    }
   ],
   "source": [
    "model(torch.rand(32,100,5).to(device=device)).shape"
   ]
  },
  {
   "cell_type": "code",
   "execution_count": 48,
   "metadata": {},
   "outputs": [
    {
     "name": "stderr",
     "output_type": "stream",
     "text": [
      "100%|██████████| 3051/3051 [00:09<00:00, 324.50it/s]\n",
      "100%|██████████| 3051/3051 [00:09<00:00, 327.69it/s]\n",
      "100%|██████████| 3051/3051 [00:09<00:00, 321.83it/s]\n",
      "100%|██████████| 3051/3051 [00:09<00:00, 320.68it/s]\n",
      "100%|██████████| 3051/3051 [00:11<00:00, 264.01it/s]\n",
      "100%|██████████| 3051/3051 [00:10<00:00, 296.54it/s]\n",
      "100%|██████████| 3051/3051 [00:13<00:00, 219.48it/s]\n",
      "100%|██████████| 3051/3051 [00:10<00:00, 295.99it/s]\n",
      "100%|██████████| 3051/3051 [00:10<00:00, 304.63it/s]\n",
      "100%|██████████| 3051/3051 [00:11<00:00, 264.47it/s]\n"
     ]
    },
    {
     "name": "stdout",
     "output_type": "stream",
     "text": [
      "Epoch [10/100], Loss: 0.0007\n"
     ]
    },
    {
     "name": "stderr",
     "output_type": "stream",
     "text": [
      "100%|██████████| 3051/3051 [00:10<00:00, 277.74it/s]\n",
      "100%|██████████| 3051/3051 [00:08<00:00, 353.75it/s]\n",
      "100%|██████████| 3051/3051 [00:08<00:00, 363.83it/s]\n",
      "100%|██████████| 3051/3051 [00:08<00:00, 361.29it/s]\n",
      "100%|██████████| 3051/3051 [00:08<00:00, 345.14it/s]\n",
      "100%|██████████| 3051/3051 [00:10<00:00, 287.14it/s]\n",
      "100%|██████████| 3051/3051 [00:10<00:00, 292.11it/s]\n",
      "100%|██████████| 3051/3051 [00:10<00:00, 289.30it/s]\n",
      "100%|██████████| 3051/3051 [00:10<00:00, 292.02it/s]\n",
      "100%|██████████| 3051/3051 [00:10<00:00, 287.06it/s]\n"
     ]
    },
    {
     "name": "stdout",
     "output_type": "stream",
     "text": [
      "Epoch [20/100], Loss: 0.0005\n"
     ]
    },
    {
     "name": "stderr",
     "output_type": "stream",
     "text": [
      "100%|██████████| 3051/3051 [00:11<00:00, 263.12it/s]\n",
      "100%|██████████| 3051/3051 [00:10<00:00, 294.59it/s]\n",
      "100%|██████████| 3051/3051 [00:11<00:00, 276.98it/s]\n",
      "100%|██████████| 3051/3051 [00:10<00:00, 282.01it/s]\n",
      "100%|██████████| 3051/3051 [00:12<00:00, 238.48it/s]\n",
      "100%|██████████| 3051/3051 [00:10<00:00, 295.06it/s]\n",
      "100%|██████████| 3051/3051 [00:11<00:00, 268.15it/s]\n",
      "100%|██████████| 3051/3051 [00:10<00:00, 293.94it/s]\n",
      "100%|██████████| 3051/3051 [00:09<00:00, 327.05it/s]\n",
      "100%|██████████| 3051/3051 [00:08<00:00, 378.94it/s]\n"
     ]
    },
    {
     "name": "stdout",
     "output_type": "stream",
     "text": [
      "Epoch [30/100], Loss: 0.0003\n"
     ]
    },
    {
     "name": "stderr",
     "output_type": "stream",
     "text": [
      "100%|██████████| 3051/3051 [00:08<00:00, 378.34it/s]\n",
      "100%|██████████| 3051/3051 [00:08<00:00, 379.47it/s]\n",
      "100%|██████████| 3051/3051 [00:08<00:00, 375.48it/s]\n",
      "100%|██████████| 3051/3051 [00:08<00:00, 374.26it/s]\n",
      "100%|██████████| 3051/3051 [00:08<00:00, 369.86it/s]\n",
      "100%|██████████| 3051/3051 [00:08<00:00, 372.96it/s]\n",
      "100%|██████████| 3051/3051 [00:09<00:00, 334.81it/s]\n",
      "100%|██████████| 3051/3051 [00:08<00:00, 365.70it/s]\n",
      "100%|██████████| 3051/3051 [00:08<00:00, 343.60it/s]\n",
      "100%|██████████| 3051/3051 [00:09<00:00, 323.86it/s]\n"
     ]
    },
    {
     "name": "stdout",
     "output_type": "stream",
     "text": [
      "Epoch [40/100], Loss: 0.0010\n"
     ]
    },
    {
     "name": "stderr",
     "output_type": "stream",
     "text": [
      "100%|██████████| 3051/3051 [00:09<00:00, 333.07it/s]\n",
      "100%|██████████| 3051/3051 [00:08<00:00, 363.64it/s]\n",
      "100%|██████████| 3051/3051 [00:08<00:00, 363.76it/s]\n",
      "100%|██████████| 3051/3051 [00:08<00:00, 362.78it/s]\n",
      "100%|██████████| 3051/3051 [00:08<00:00, 347.94it/s]\n",
      "100%|██████████| 3051/3051 [00:08<00:00, 358.93it/s]\n",
      "100%|██████████| 3051/3051 [00:08<00:00, 360.19it/s]\n",
      "100%|██████████| 3051/3051 [00:08<00:00, 342.29it/s]\n",
      "100%|██████████| 3051/3051 [00:09<00:00, 336.39it/s]\n",
      "100%|██████████| 3051/3051 [00:09<00:00, 335.10it/s]\n"
     ]
    },
    {
     "name": "stdout",
     "output_type": "stream",
     "text": [
      "Epoch [50/100], Loss: 0.0002\n"
     ]
    },
    {
     "name": "stderr",
     "output_type": "stream",
     "text": [
      "100%|██████████| 3051/3051 [00:09<00:00, 336.87it/s]\n",
      "100%|██████████| 3051/3051 [00:09<00:00, 337.18it/s]\n",
      "100%|██████████| 3051/3051 [00:09<00:00, 333.61it/s]\n",
      "100%|██████████| 3051/3051 [00:09<00:00, 335.54it/s]\n",
      "100%|██████████| 3051/3051 [00:09<00:00, 331.47it/s]\n",
      "100%|██████████| 3051/3051 [00:09<00:00, 335.93it/s]\n",
      "100%|██████████| 3051/3051 [00:09<00:00, 336.72it/s]\n",
      "100%|██████████| 3051/3051 [00:09<00:00, 319.81it/s]\n",
      "100%|██████████| 3051/3051 [00:09<00:00, 322.57it/s]\n",
      "100%|██████████| 3051/3051 [00:09<00:00, 324.38it/s]\n"
     ]
    },
    {
     "name": "stdout",
     "output_type": "stream",
     "text": [
      "Epoch [60/100], Loss: 0.0016\n"
     ]
    },
    {
     "name": "stderr",
     "output_type": "stream",
     "text": [
      "100%|██████████| 3051/3051 [00:09<00:00, 322.67it/s]\n",
      "100%|██████████| 3051/3051 [00:10<00:00, 291.11it/s]\n",
      "100%|██████████| 3051/3051 [00:09<00:00, 333.81it/s]\n",
      "100%|██████████| 3051/3051 [00:08<00:00, 343.95it/s]\n",
      "100%|██████████| 3051/3051 [00:08<00:00, 342.96it/s]\n",
      "100%|██████████| 3051/3051 [00:09<00:00, 333.93it/s]\n",
      "100%|██████████| 3051/3051 [00:09<00:00, 331.64it/s]\n",
      "100%|██████████| 3051/3051 [00:09<00:00, 336.83it/s]\n",
      "100%|██████████| 3051/3051 [00:09<00:00, 335.19it/s]\n",
      "100%|██████████| 3051/3051 [00:09<00:00, 330.81it/s]\n"
     ]
    },
    {
     "name": "stdout",
     "output_type": "stream",
     "text": [
      "Epoch [70/100], Loss: 0.0003\n"
     ]
    },
    {
     "name": "stderr",
     "output_type": "stream",
     "text": [
      "100%|██████████| 3051/3051 [00:09<00:00, 334.38it/s]\n",
      "100%|██████████| 3051/3051 [00:08<00:00, 339.27it/s]\n",
      "100%|██████████| 3051/3051 [00:08<00:00, 354.34it/s]\n",
      "100%|██████████| 3051/3051 [00:09<00:00, 327.46it/s]\n",
      "100%|██████████| 3051/3051 [00:09<00:00, 313.83it/s]\n",
      "100%|██████████| 3051/3051 [00:09<00:00, 317.74it/s]\n",
      "100%|██████████| 3051/3051 [00:09<00:00, 320.21it/s]\n",
      "100%|██████████| 3051/3051 [00:10<00:00, 296.24it/s]\n",
      "100%|██████████| 3051/3051 [00:10<00:00, 284.04it/s]\n",
      "100%|██████████| 3051/3051 [00:11<00:00, 254.37it/s]\n"
     ]
    },
    {
     "name": "stdout",
     "output_type": "stream",
     "text": [
      "Epoch [80/100], Loss: 0.0002\n"
     ]
    },
    {
     "name": "stderr",
     "output_type": "stream",
     "text": [
      "100%|██████████| 3051/3051 [00:10<00:00, 278.99it/s]\n",
      "100%|██████████| 3051/3051 [00:09<00:00, 326.54it/s]\n",
      "100%|██████████| 3051/3051 [00:09<00:00, 329.68it/s]\n",
      "100%|██████████| 3051/3051 [00:09<00:00, 318.21it/s]\n",
      "100%|██████████| 3051/3051 [00:09<00:00, 319.01it/s]\n",
      "100%|██████████| 3051/3051 [00:09<00:00, 322.49it/s]\n",
      "100%|██████████| 3051/3051 [00:10<00:00, 302.81it/s]\n",
      "100%|██████████| 3051/3051 [00:09<00:00, 332.74it/s]\n",
      "100%|██████████| 3051/3051 [00:09<00:00, 328.63it/s]\n",
      "100%|██████████| 3051/3051 [00:08<00:00, 339.83it/s]\n"
     ]
    },
    {
     "name": "stdout",
     "output_type": "stream",
     "text": [
      "Epoch [90/100], Loss: 0.0001\n"
     ]
    },
    {
     "name": "stderr",
     "output_type": "stream",
     "text": [
      "100%|██████████| 3051/3051 [00:08<00:00, 353.08it/s]\n",
      "100%|██████████| 3051/3051 [00:08<00:00, 355.52it/s]\n",
      "100%|██████████| 3051/3051 [00:08<00:00, 354.51it/s]\n",
      "100%|██████████| 3051/3051 [00:08<00:00, 356.85it/s]\n",
      "100%|██████████| 3051/3051 [00:08<00:00, 357.84it/s]\n",
      "100%|██████████| 3051/3051 [00:10<00:00, 295.73it/s]\n",
      "100%|██████████| 3051/3051 [00:09<00:00, 316.28it/s]\n",
      "100%|██████████| 3051/3051 [00:08<00:00, 361.54it/s]\n",
      "100%|██████████| 3051/3051 [00:10<00:00, 301.39it/s]\n",
      "100%|██████████| 3051/3051 [00:13<00:00, 232.11it/s]"
     ]
    },
    {
     "name": "stdout",
     "output_type": "stream",
     "text": [
      "Epoch [100/100], Loss: 0.0003\n"
     ]
    },
    {
     "name": "stderr",
     "output_type": "stream",
     "text": [
      "\n"
     ]
    }
   ],
   "source": [
    "# Train Network\n",
    "for epoch in range(num_epochs):\n",
    "    # losses = []\n",
    "\n",
    "    for batch_idx, (data, targets) in enumerate(tqdm(dataloader)):\n",
    "        # Get data to cuda if possible\n",
    "        data = data.to(device=device)\n",
    "        targets = targets.to(device=device)\n",
    "\n",
    "        # forward\n",
    "        scores = model(data)\n",
    "        #print(scores.shape,\"************\",targets.unsqueeze(2).shape)\n",
    "        loss = criterion(scores, targets.unsqueeze(2))\n",
    "\n",
    "        #losses.append(loss.item())\n",
    "        # backward\n",
    "        optimizer.zero_grad()\n",
    "        loss.backward()\n",
    "\n",
    "        # gradient descent or adam step\n",
    "        optimizer.step()\n",
    "\n",
    "    if (epoch+1) % 10 == 0:\n",
    "        print('Epoch [{}/{}], Loss: {:.4f}'.format(epoch+1, num_epochs, loss.item()))"
   ]
  },
  {
   "cell_type": "markdown",
   "metadata": {},
   "source": [
    "# Evaluation :"
   ]
  },
  {
   "cell_type": "markdown",
   "metadata": {},
   "source": [
    "test 1:"
   ]
  },
  {
   "cell_type": "code",
   "execution_count": 120,
   "metadata": {},
   "outputs": [],
   "source": [
    "ratio = 'BTC-USD'\n",
    "dataset = f'crypto_data/{ratio}.csv' \n",
    "data = pd.read_csv(dataset, names=['time', 'low', 'high', 'open', 'close', 'volume']) \n",
    "data = (data - data.mean()) / data.std()\n"
   ]
  },
  {
   "cell_type": "code",
   "execution_count": 121,
   "metadata": {},
   "outputs": [
    {
     "data": {
      "text/html": [
       "<div>\n",
       "<style scoped>\n",
       "    .dataframe tbody tr th:only-of-type {\n",
       "        vertical-align: middle;\n",
       "    }\n",
       "\n",
       "    .dataframe tbody tr th {\n",
       "        vertical-align: top;\n",
       "    }\n",
       "\n",
       "    .dataframe thead th {\n",
       "        text-align: right;\n",
       "    }\n",
       "</style>\n",
       "<table border=\"1\" class=\"dataframe\">\n",
       "  <thead>\n",
       "    <tr style=\"text-align: right;\">\n",
       "      <th></th>\n",
       "      <th>time</th>\n",
       "      <th>low</th>\n",
       "      <th>high</th>\n",
       "      <th>open</th>\n",
       "      <th>close</th>\n",
       "      <th>volume</th>\n",
       "    </tr>\n",
       "  </thead>\n",
       "  <tbody>\n",
       "    <tr>\n",
       "      <th>91610</th>\n",
       "      <td>1.575398</td>\n",
       "      <td>-0.523029</td>\n",
       "      <td>-0.523907</td>\n",
       "      <td>-0.525492</td>\n",
       "      <td>-0.521586</td>\n",
       "      <td>0.044329</td>\n",
       "    </tr>\n",
       "    <tr>\n",
       "      <th>91611</th>\n",
       "      <td>1.575431</td>\n",
       "      <td>-0.519131</td>\n",
       "      <td>-0.523907</td>\n",
       "      <td>-0.521579</td>\n",
       "      <td>-0.521602</td>\n",
       "      <td>-0.322117</td>\n",
       "    </tr>\n",
       "    <tr>\n",
       "      <th>91612</th>\n",
       "      <td>1.575464</td>\n",
       "      <td>-0.519131</td>\n",
       "      <td>-0.523907</td>\n",
       "      <td>-0.521594</td>\n",
       "      <td>-0.521586</td>\n",
       "      <td>-0.212765</td>\n",
       "    </tr>\n",
       "    <tr>\n",
       "      <th>91613</th>\n",
       "      <td>1.575497</td>\n",
       "      <td>-0.519131</td>\n",
       "      <td>-0.523907</td>\n",
       "      <td>-0.521594</td>\n",
       "      <td>-0.521602</td>\n",
       "      <td>-0.296088</td>\n",
       "    </tr>\n",
       "    <tr>\n",
       "      <th>91614</th>\n",
       "      <td>1.575530</td>\n",
       "      <td>-0.519131</td>\n",
       "      <td>-0.523907</td>\n",
       "      <td>-0.521579</td>\n",
       "      <td>-0.521586</td>\n",
       "      <td>-0.328103</td>\n",
       "    </tr>\n",
       "    <tr>\n",
       "      <th>...</th>\n",
       "      <td>...</td>\n",
       "      <td>...</td>\n",
       "      <td>...</td>\n",
       "      <td>...</td>\n",
       "      <td>...</td>\n",
       "      <td>...</td>\n",
       "    </tr>\n",
       "    <tr>\n",
       "      <th>91705</th>\n",
       "      <td>1.578544</td>\n",
       "      <td>-0.525353</td>\n",
       "      <td>-0.526058</td>\n",
       "      <td>-0.527816</td>\n",
       "      <td>-0.525780</td>\n",
       "      <td>-0.183906</td>\n",
       "    </tr>\n",
       "    <tr>\n",
       "      <th>91706</th>\n",
       "      <td>1.578577</td>\n",
       "      <td>-0.523310</td>\n",
       "      <td>-0.528085</td>\n",
       "      <td>-0.525758</td>\n",
       "      <td>-0.525765</td>\n",
       "      <td>-0.279277</td>\n",
       "    </tr>\n",
       "    <tr>\n",
       "      <th>91707</th>\n",
       "      <td>1.578610</td>\n",
       "      <td>-0.523310</td>\n",
       "      <td>-0.528085</td>\n",
       "      <td>-0.525773</td>\n",
       "      <td>-0.525765</td>\n",
       "      <td>-0.311162</td>\n",
       "    </tr>\n",
       "    <tr>\n",
       "      <th>91708</th>\n",
       "      <td>1.578643</td>\n",
       "      <td>-0.523310</td>\n",
       "      <td>-0.528085</td>\n",
       "      <td>-0.525773</td>\n",
       "      <td>-0.525765</td>\n",
       "      <td>-0.239356</td>\n",
       "    </tr>\n",
       "    <tr>\n",
       "      <th>91709</th>\n",
       "      <td>1.578676</td>\n",
       "      <td>-0.523310</td>\n",
       "      <td>-0.528085</td>\n",
       "      <td>-0.525758</td>\n",
       "      <td>-0.525765</td>\n",
       "      <td>-0.319193</td>\n",
       "    </tr>\n",
       "  </tbody>\n",
       "</table>\n",
       "<p>100 rows × 6 columns</p>\n",
       "</div>"
      ],
      "text/plain": [
       "           time       low      high      open     close    volume\n",
       "91610  1.575398 -0.523029 -0.523907 -0.525492 -0.521586  0.044329\n",
       "91611  1.575431 -0.519131 -0.523907 -0.521579 -0.521602 -0.322117\n",
       "91612  1.575464 -0.519131 -0.523907 -0.521594 -0.521586 -0.212765\n",
       "91613  1.575497 -0.519131 -0.523907 -0.521594 -0.521602 -0.296088\n",
       "91614  1.575530 -0.519131 -0.523907 -0.521579 -0.521586 -0.328103\n",
       "...         ...       ...       ...       ...       ...       ...\n",
       "91705  1.578544 -0.525353 -0.526058 -0.527816 -0.525780 -0.183906\n",
       "91706  1.578577 -0.523310 -0.528085 -0.525758 -0.525765 -0.279277\n",
       "91707  1.578610 -0.523310 -0.528085 -0.525773 -0.525765 -0.311162\n",
       "91708  1.578643 -0.523310 -0.528085 -0.525773 -0.525765 -0.239356\n",
       "91709  1.578676 -0.523310 -0.528085 -0.525758 -0.525765 -0.319193\n",
       "\n",
       "[100 rows x 6 columns]"
      ]
     },
     "execution_count": 121,
     "metadata": {},
     "output_type": "execute_result"
    }
   ],
   "source": [
    "test_input = data.loc[91610:91610+99]#.head()\n",
    "test_input"
   ]
  },
  {
   "cell_type": "code",
   "execution_count": 122,
   "metadata": {},
   "outputs": [
    {
     "data": {
      "text/plain": [
       "10"
      ]
     },
     "execution_count": 122,
     "metadata": {},
     "output_type": "execute_result"
    }
   ],
   "source": [
    "test_target = data.loc[91610+99:91610+99+9]#.head()\n",
    "len(test_target)"
   ]
  },
  {
   "cell_type": "code",
   "execution_count": 123,
   "metadata": {},
   "outputs": [
    {
     "data": {
      "text/html": [
       "<div>\n",
       "<style scoped>\n",
       "    .dataframe tbody tr th:only-of-type {\n",
       "        vertical-align: middle;\n",
       "    }\n",
       "\n",
       "    .dataframe tbody tr th {\n",
       "        vertical-align: top;\n",
       "    }\n",
       "\n",
       "    .dataframe thead th {\n",
       "        text-align: right;\n",
       "    }\n",
       "</style>\n",
       "<table border=\"1\" class=\"dataframe\">\n",
       "  <thead>\n",
       "    <tr style=\"text-align: right;\">\n",
       "      <th></th>\n",
       "      <th>time</th>\n",
       "      <th>low</th>\n",
       "      <th>high</th>\n",
       "      <th>open</th>\n",
       "      <th>close</th>\n",
       "      <th>volume</th>\n",
       "    </tr>\n",
       "  </thead>\n",
       "  <tbody>\n",
       "    <tr>\n",
       "      <th>91709</th>\n",
       "      <td>1.578676</td>\n",
       "      <td>-0.523310</td>\n",
       "      <td>-0.528085</td>\n",
       "      <td>-0.525758</td>\n",
       "      <td>-0.525765</td>\n",
       "      <td>-0.319193</td>\n",
       "    </tr>\n",
       "    <tr>\n",
       "      <th>91710</th>\n",
       "      <td>1.578709</td>\n",
       "      <td>-0.523310</td>\n",
       "      <td>-0.528085</td>\n",
       "      <td>-0.525758</td>\n",
       "      <td>-0.525780</td>\n",
       "      <td>-0.297730</td>\n",
       "    </tr>\n",
       "    <tr>\n",
       "      <th>91711</th>\n",
       "      <td>1.578742</td>\n",
       "      <td>-0.523310</td>\n",
       "      <td>-0.528085</td>\n",
       "      <td>-0.525758</td>\n",
       "      <td>-0.525780</td>\n",
       "      <td>-0.330982</td>\n",
       "    </tr>\n",
       "    <tr>\n",
       "      <th>91712</th>\n",
       "      <td>1.578775</td>\n",
       "      <td>-0.523794</td>\n",
       "      <td>-0.528085</td>\n",
       "      <td>-0.525758</td>\n",
       "      <td>-0.526249</td>\n",
       "      <td>-0.301252</td>\n",
       "    </tr>\n",
       "    <tr>\n",
       "      <th>91713</th>\n",
       "      <td>1.578808</td>\n",
       "      <td>-0.523794</td>\n",
       "      <td>-0.528569</td>\n",
       "      <td>-0.526241</td>\n",
       "      <td>-0.526264</td>\n",
       "      <td>-0.283438</td>\n",
       "    </tr>\n",
       "    <tr>\n",
       "      <th>91714</th>\n",
       "      <td>1.578842</td>\n",
       "      <td>-0.523794</td>\n",
       "      <td>-0.528569</td>\n",
       "      <td>-0.526256</td>\n",
       "      <td>-0.526249</td>\n",
       "      <td>-0.284781</td>\n",
       "    </tr>\n",
       "    <tr>\n",
       "      <th>91715</th>\n",
       "      <td>1.578875</td>\n",
       "      <td>-0.523794</td>\n",
       "      <td>-0.528569</td>\n",
       "      <td>-0.526241</td>\n",
       "      <td>-0.526264</td>\n",
       "      <td>-0.329853</td>\n",
       "    </tr>\n",
       "    <tr>\n",
       "      <th>91716</th>\n",
       "      <td>1.578908</td>\n",
       "      <td>-0.528456</td>\n",
       "      <td>-0.528569</td>\n",
       "      <td>-0.526256</td>\n",
       "      <td>-0.530926</td>\n",
       "      <td>-0.226253</td>\n",
       "    </tr>\n",
       "    <tr>\n",
       "      <th>91717</th>\n",
       "      <td>1.578941</td>\n",
       "      <td>-0.528471</td>\n",
       "      <td>-0.533230</td>\n",
       "      <td>-0.530903</td>\n",
       "      <td>-0.530926</td>\n",
       "      <td>-0.291095</td>\n",
       "    </tr>\n",
       "    <tr>\n",
       "      <th>91718</th>\n",
       "      <td>1.578974</td>\n",
       "      <td>-0.528471</td>\n",
       "      <td>-0.533246</td>\n",
       "      <td>-0.530919</td>\n",
       "      <td>-0.530926</td>\n",
       "      <td>-0.209262</td>\n",
       "    </tr>\n",
       "  </tbody>\n",
       "</table>\n",
       "</div>"
      ],
      "text/plain": [
       "           time       low      high      open     close    volume\n",
       "91709  1.578676 -0.523310 -0.528085 -0.525758 -0.525765 -0.319193\n",
       "91710  1.578709 -0.523310 -0.528085 -0.525758 -0.525780 -0.297730\n",
       "91711  1.578742 -0.523310 -0.528085 -0.525758 -0.525780 -0.330982\n",
       "91712  1.578775 -0.523794 -0.528085 -0.525758 -0.526249 -0.301252\n",
       "91713  1.578808 -0.523794 -0.528569 -0.526241 -0.526264 -0.283438\n",
       "91714  1.578842 -0.523794 -0.528569 -0.526256 -0.526249 -0.284781\n",
       "91715  1.578875 -0.523794 -0.528569 -0.526241 -0.526264 -0.329853\n",
       "91716  1.578908 -0.528456 -0.528569 -0.526256 -0.530926 -0.226253\n",
       "91717  1.578941 -0.528471 -0.533230 -0.530903 -0.530926 -0.291095\n",
       "91718  1.578974 -0.528471 -0.533246 -0.530919 -0.530926 -0.209262"
      ]
     },
     "execution_count": 123,
     "metadata": {},
     "output_type": "execute_result"
    }
   ],
   "source": [
    "test_target"
   ]
  },
  {
   "cell_type": "markdown",
   "metadata": {},
   "source": [
    "Define data :"
   ]
  },
  {
   "cell_type": "code",
   "execution_count": 124,
   "metadata": {},
   "outputs": [
    {
     "data": {
      "text/plain": [
       "torch.Size([10])"
      ]
     },
     "execution_count": 124,
     "metadata": {},
     "output_type": "execute_result"
    }
   ],
   "source": [
    "output = torch.tensor(test_target.values)[:,-2].to(device=device)\n",
    "output.shape"
   ]
  },
  {
   "cell_type": "code",
   "execution_count": 125,
   "metadata": {},
   "outputs": [
    {
     "data": {
      "text/plain": [
       "torch.Size([1, 100, 5])"
      ]
     },
     "execution_count": 125,
     "metadata": {},
     "output_type": "execute_result"
    }
   ],
   "source": [
    "input = torch.tensor(test_input.values[:,1:],dtype=torch.float).unsqueeze(0).to(device=device)\n",
    "input.shape"
   ]
  },
  {
   "cell_type": "code",
   "execution_count": 126,
   "metadata": {},
   "outputs": [],
   "source": [
    "pred = model(input)"
   ]
  },
  {
   "cell_type": "code",
   "execution_count": 127,
   "metadata": {},
   "outputs": [],
   "source": [
    "# pred.squeeze(0).squeeze(1)\n",
    "pred_ = torch.Tensor.detach(torch.Tensor.cpu(pred.view(-1))).numpy()\n",
    "output_ = torch.Tensor.detach(torch.Tensor.cpu(output.view(-1))).numpy()"
   ]
  },
  {
   "cell_type": "code",
   "execution_count": 136,
   "metadata": {},
   "outputs": [
    {
     "data": {
      "image/png": "[encoded data removed]",
      "text/plain": [
       "<Figure size 640x480 with 1 Axes>"
      ]
     },
     "metadata": {},
     "output_type": "display_data"
    }
   ],
   "source": [
    "\n",
    "sns.scatterplot(pred_)\n",
    "sns.scatterplot(output_,color='r')\n",
    "plt.legend(['close prediction','Truth']);\n"
   ]
  },
  {
   "cell_type": "code",
   "execution_count": 141,
   "metadata": {},
   "outputs": [],
   "source": [
    "def plot_resualt(start_index):\n",
    "    test_input = data.loc[start_index:start_index+99]\n",
    "    test_target = data.loc[start_index+99:start_index+99+9]\n",
    "    output = torch.tensor(test_target.values)[:,-2].to(device=device)\n",
    "    input = torch.tensor(test_input.values[:,1:],dtype=torch.float).unsqueeze(0).to(device=device)\n",
    "    pred = model(input)\n",
    "\n",
    "    pred_ = torch.Tensor.detach(torch.Tensor.cpu(pred.view(-1))).numpy()\n",
    "    output_ = torch.Tensor.detach(torch.Tensor.cpu(output.view(-1))).numpy()\n",
    "\n",
    "    sns.scatterplot(pred_)\n",
    "    sns.scatterplot(output_,color='r')\n",
    "    plt.legend(['close prediction','Truth']);"
   ]
  },
  {
   "cell_type": "markdown",
   "metadata": {},
   "source": [
    "---\n",
    "test 2:"
   ]
  },
  {
   "cell_type": "code",
   "execution_count": 142,
   "metadata": {},
   "outputs": [
    {
     "data": {
      "image/png": "[encoded data removed]",
      "text/plain": [
       "<Figure size 640x480 with 1 Axes>"
      ]
     },
     "metadata": {},
     "output_type": "display_data"
    }
   ],
   "source": [
    "plot_resualt(92610)"
   ]
  },
  {
   "cell_type": "markdown",
   "metadata": {},
   "source": [
    "test 3:"
   ]
  },
  {
   "cell_type": "code",
   "execution_count": 143,
   "metadata": {},
   "outputs": [
    {
     "data": {
      "image/png": "[encoded data removed]",
      "text/plain": [
       "<Figure size 640x480 with 1 Axes>"
      ]
     },
     "metadata": {},
     "output_type": "display_data"
    }
   ],
   "source": [
    "plot_resualt(95610)"
   ]
  },
  {
   "cell_type": "markdown",
   "metadata": {},
   "source": [
    "test 4:\n"
   ]
  },
  {
   "cell_type": "code",
   "execution_count": 145,
   "metadata": {},
   "outputs": [
    {
     "data": {
      "image/png": "[encoded data removed]",
      "text/plain": [
       "<Figure size 640x480 with 1 Axes>"
      ]
     },
     "metadata": {},
     "output_type": "display_data"
    }
   ],
   "source": [
    "plot_resualt(96810)"
   ]
  },
  {
   "cell_type": "markdown",
   "metadata": {},
   "source": [
    " Save model : \n"
   ]
  },
  {
   "cell_type": "code",
   "execution_count": 10,
   "metadata": {},
   "outputs": [
    {
     "ename": "NameError",
     "evalue": "name 'model' is not defined",
     "output_type": "error",
     "traceback": [
      "\u001b[0;31m---------------------------------------------------------------------------\u001b[0m",
      "\u001b[0;31mNameError\u001b[0m                                 Traceback (most recent call last)",
      "Cell \u001b[0;32mIn[10], line 2\u001b[0m\n\u001b[1;32m      1\u001b[0m \u001b[38;5;66;03m# Save only the model state dictionary\u001b[39;00m\n\u001b[0;32m----> 2\u001b[0m torch\u001b[38;5;241m.\u001b[39msave(\u001b[43mmodel\u001b[49m\u001b[38;5;241m.\u001b[39mstate_dict(), \u001b[38;5;124m'\u001b[39m\u001b[38;5;124mGRU_model_state.pth\u001b[39m\u001b[38;5;124m'\u001b[39m)\n",
      "\u001b[0;31mNameError\u001b[0m: name 'model' is not defined"
     ]
    }
   ],
   "source": [
    "torch.save(model.state_dict(), 'GRU_model_state.pth')"
   ]
  },
  {
   "cell_type": "markdown",
   "metadata": {},
   "source": [
    "Load model : \n"
   ]
  },
  {
   "cell_type": "code",
   "execution_count": null,
   "metadata": {},
   "outputs": [],
   "source": [
    "model.load_state_dict(torch.load('model_state.pth'))"
   ]
  }
 ],
 "metadata": {
  "kernelspec": {
   "display_name": "Python 3.9.17 ('Stock')",
   "language": "python",
   "name": "python3"
  },
  "language_info": {
   "codemirror_mode": {
    "name": "ipython",
    "version": 3
   },
   "file_extension": ".py",
   "mimetype": "text/x-python",
   "name": "python",
   "nbconvert_exporter": "python",
   "pygments_lexer": "ipython3",
   "version": "3.9.17"
  },
  "orig_nbformat": 4,
  "vscode": {
   "interpreter": {
    "hash": "ae22c01329813a8cb2a81b8c1b1f18778ce041490a61310fbe413b469cbe0928"
   }
  }
 },
 "nbformat": 4,
 "nbformat_minor": 2
}
