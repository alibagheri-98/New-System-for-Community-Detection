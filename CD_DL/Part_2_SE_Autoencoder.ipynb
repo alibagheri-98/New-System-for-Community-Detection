{
  "cells": [
    {
      "cell_type": "markdown",
      "metadata": {
        "id": "sx3U32qYuuHa"
      },
      "source": [
        "### Requirements"
      ]
    },
    {
      "cell_type": "code",
      "execution_count": 1,
      "metadata": {
        "colab": {
          "base_uri": "https://localhost:8080/"
        },
        "id": "yRO8xqbUdQax",
        "outputId": "e514cb46-cd20-48b6-ef03-95bae4ec6c2f"
      },
      "outputs": [
        {
          "output_type": "stream",
          "name": "stdout",
          "text": [
            "Collecting torch-geometric\n",
            "  Downloading torch_geometric-2.3.1.tar.gz (661 kB)\n",
            "\u001b[2K     \u001b[90m━━━━━━━━━━━━━━━━━━━━━━━━━━━━━━━━━━━━━━━\u001b[0m \u001b[32m661.6/661.6 kB\u001b[0m \u001b[31m8.1 MB/s\u001b[0m eta \u001b[36m0:00:00\u001b[0m\n",
            "\u001b[?25h  Installing build dependencies ... \u001b[?25l\u001b[?25hdone\n",
            "  Getting requirements to build wheel ... \u001b[?25l\u001b[?25hdone\n",
            "  Preparing metadata (pyproject.toml) ... \u001b[?25l\u001b[?25hdone\n",
            "Requirement already satisfied: tqdm in /usr/local/lib/python3.10/dist-packages (from torch-geometric) (4.65.0)\n",
            "Requirement already satisfied: numpy in /usr/local/lib/python3.10/dist-packages (from torch-geometric) (1.22.4)\n",
            "Requirement already satisfied: scipy in /usr/local/lib/python3.10/dist-packages (from torch-geometric) (1.10.1)\n",
            "Requirement already satisfied: jinja2 in /usr/local/lib/python3.10/dist-packages (from torch-geometric) (3.1.2)\n",
            "Requirement already satisfied: requests in /usr/local/lib/python3.10/dist-packages (from torch-geometric) (2.27.1)\n",
            "Requirement already satisfied: pyparsing in /usr/local/lib/python3.10/dist-packages (from torch-geometric) (3.1.0)\n",
            "Requirement already satisfied: scikit-learn in /usr/local/lib/python3.10/dist-packages (from torch-geometric) (1.2.2)\n",
            "Requirement already satisfied: psutil>=5.8.0 in /usr/local/lib/python3.10/dist-packages (from torch-geometric) (5.9.5)\n",
            "Requirement already satisfied: MarkupSafe>=2.0 in /usr/local/lib/python3.10/dist-packages (from jinja2->torch-geometric) (2.1.3)\n",
            "Requirement already satisfied: urllib3<1.27,>=1.21.1 in /usr/local/lib/python3.10/dist-packages (from requests->torch-geometric) (1.26.16)\n",
            "Requirement already satisfied: certifi>=2017.4.17 in /usr/local/lib/python3.10/dist-packages (from requests->torch-geometric) (2023.7.22)\n",
            "Requirement already satisfied: charset-normalizer~=2.0.0 in /usr/local/lib/python3.10/dist-packages (from requests->torch-geometric) (2.0.12)\n",
            "Requirement already satisfied: idna<4,>=2.5 in /usr/local/lib/python3.10/dist-packages (from requests->torch-geometric) (3.4)\n",
            "Requirement already satisfied: joblib>=1.1.1 in /usr/local/lib/python3.10/dist-packages (from scikit-learn->torch-geometric) (1.3.1)\n",
            "Requirement already satisfied: threadpoolctl>=2.0.0 in /usr/local/lib/python3.10/dist-packages (from scikit-learn->torch-geometric) (3.2.0)\n",
            "Building wheels for collected packages: torch-geometric\n",
            "  Building wheel for torch-geometric (pyproject.toml) ... \u001b[?25l\u001b[?25hdone\n",
            "  Created wheel for torch-geometric: filename=torch_geometric-2.3.1-py3-none-any.whl size=910454 sha256=24c443d35ab4a220bdcb32255b420c93b33841d64132d15b693da65d17259aa2\n",
            "  Stored in directory: /root/.cache/pip/wheels/ac/dc/30/e2874821ff308ee67dcd7a66dbde912411e19e35a1addda028\n",
            "Successfully built torch-geometric\n",
            "Installing collected packages: torch-geometric\n",
            "Successfully installed torch-geometric-2.3.1\n"
          ]
        }
      ],
      "source": [
        "!pip install torch-geometric"
      ]
    },
    {
      "cell_type": "markdown",
      "metadata": {
        "id": "PsxLxuBYu3Bw"
      },
      "source": [
        "### Libraries"
      ]
    },
    {
      "cell_type": "code",
      "execution_count": 2,
      "metadata": {
        "id": "uHmVed7svMTp"
      },
      "outputs": [],
      "source": [
        "from torch_geometric.datasets import Planetoid\n",
        "import numpy as np\n",
        "from tqdm import tqdm\n",
        "import torch\n",
        "import torch.nn as nn\n",
        "from torch.nn import functional as F\n",
        "import matplotlib.pyplot as plt\n",
        "from sklearn.cluster import KMeans\n",
        "from sklearn.metrics.cluster import normalized_mutual_info_score"
      ]
    },
    {
      "cell_type": "markdown",
      "metadata": {
        "id": "ieA86lWGxgNc"
      },
      "source": [
        "### Loading Dataset"
      ]
    },
    {
      "cell_type": "code",
      "execution_count": 3,
      "metadata": {
        "colab": {
          "base_uri": "https://localhost:8080/"
        },
        "id": "tNNwA7LedS6-",
        "outputId": "a15cf39f-1f2e-4fd2-bbbc-db37ca3d936a"
      },
      "outputs": [
        {
          "output_type": "stream",
          "name": "stderr",
          "text": [
            "Downloading https://github.com/kimiyoung/planetoid/raw/master/data/ind.cora.x\n",
            "Downloading https://github.com/kimiyoung/planetoid/raw/master/data/ind.cora.tx\n",
            "Downloading https://github.com/kimiyoung/planetoid/raw/master/data/ind.cora.allx\n",
            "Downloading https://github.com/kimiyoung/planetoid/raw/master/data/ind.cora.y\n",
            "Downloading https://github.com/kimiyoung/planetoid/raw/master/data/ind.cora.ty\n",
            "Downloading https://github.com/kimiyoung/planetoid/raw/master/data/ind.cora.ally\n",
            "Downloading https://github.com/kimiyoung/planetoid/raw/master/data/ind.cora.graph\n",
            "Downloading https://github.com/kimiyoung/planetoid/raw/master/data/ind.cora.test.index\n",
            "Processing...\n",
            "Done!\n"
          ]
        }
      ],
      "source": [
        "dataset = Planetoid(root='/tmp/Cora', name='Cora')\n",
        "data = dataset[0]"
      ]
    },
    {
      "cell_type": "markdown",
      "metadata": {
        "id": "Kn1X_ReZxlVJ"
      },
      "source": [
        "### Find $S_t$ and $S_{t+1}$"
      ]
    },
    {
      "cell_type": "code",
      "execution_count": 4,
      "metadata": {
        "id": "6yqzBonTK26C"
      },
      "outputs": [],
      "source": [
        "# Define a function to compute the Dice coefficient between two nodes i and j, using the formula that you provided\n",
        "def dice_coefficient(i, j, A):\n",
        "    # get the set of neighbors of node i in array A\n",
        "    N_i = set(np.where(A[0] == i)[0])\n",
        "    # get the set of neighbors of node j in array A\n",
        "    N_j = set(np.where(A[0] == j)[0])\n",
        "    # compute the intersection of the two sets\n",
        "    N_ij = N_i.intersection(N_j)\n",
        "    # compute the Dice coefficient using the formula\n",
        "    return 2 * len(N_ij) / (len(N_i) + len(N_j))"
      ]
    },
    {
      "cell_type": "code",
      "execution_count": 5,
      "metadata": {
        "id": "zo8UK_5edyQJ",
        "colab": {
          "base_uri": "https://localhost:8080/"
        },
        "outputId": "519a8fb5-a939-44b3-9fc9-c5581d3d6052"
      },
      "outputs": [
        {
          "output_type": "stream",
          "name": "stderr",
          "text": [
            "100%|██████████| 2708/2708 [03:30<00:00, 12.85it/s]\n"
          ]
        }
      ],
      "source": [
        "A = data.edge_index.numpy()\n",
        "# get the number of nodes in the array\n",
        "n = len(np.unique(A))\n",
        "# initialize an empty numpy array of size n x n\n",
        "S = np.zeros((n, n))\n",
        "# loop over all pairs of nodes in the array\n",
        "for i in tqdm(range(n)):\n",
        "    for j in range(n):\n",
        "        # compute the Dice coefficient between node i and node j\n",
        "        S[i, j] = dice_coefficient(i, j, A)\n",
        "\n",
        "T = 5\n",
        "S_t = [S for _ in range(T)]\n",
        "\n"
      ]
    },
    {
      "cell_type": "markdown",
      "metadata": {
        "id": "z_Hh0Xb2xyzi"
      },
      "source": [
        "### Find Feachers of Graph"
      ]
    },
    {
      "cell_type": "code",
      "execution_count": 6,
      "metadata": {
        "id": "x0E0sQ2uLb0f"
      },
      "outputs": [],
      "source": [
        "def get_adj_matrix(edge_index, num_nodes=None):\n",
        "    if num_nodes is None:\n",
        "        num_nodes = edge_index.max() + 1\n",
        "\n",
        "    adj = torch.zeros((num_nodes, num_nodes))\n",
        "    for i,j in edge_index.t():\n",
        "        adj[i,j] = 1\n",
        "\n",
        "    return adj.numpy()"
      ]
    },
    {
      "cell_type": "code",
      "execution_count": 7,
      "metadata": {
        "id": "gxfWGfqYLcTk"
      },
      "outputs": [],
      "source": [
        "A = torch.from_numpy(get_adj_matrix(data.edge_index)) # Adjacency matrix\n",
        "S = data.x # Node feature matrix as similarity\n",
        "n = S.shape[0] # Number of nodes\n",
        "y = data.y # Ground-truth communities"
      ]
    },
    {
      "cell_type": "markdown",
      "metadata": {
        "id": "cEHT47gwx3gY"
      },
      "source": [
        "### Creat Model"
      ]
    },
    {
      "cell_type": "code",
      "execution_count": 8,
      "metadata": {
        "id": "PrB_Z8PNLgNE",
        "colab": {
          "base_uri": "https://localhost:8080/"
        },
        "outputId": "90df8e27-928b-4af4-af91-c7aeffed6069"
      },
      "outputs": [
        {
          "output_type": "stream",
          "name": "stdout",
          "text": [
            "902 541 270\n"
          ]
        }
      ],
      "source": [
        "if n < 1000:\n",
        "   d1 = n // 2\n",
        "   d2 = n // 4\n",
        "   d3 = n // 8\n",
        "elif n < 5000:\n",
        "   d1 = n // 3\n",
        "   d2 = n // 5\n",
        "   d3 = n // 10\n",
        "else:\n",
        "   d1 = n // 5\n",
        "   d2 = n // 10\n",
        "   d3 = n // 20\n",
        "\n",
        "print(d1, d2, d3)"
      ]
    },
    {
      "cell_type": "code",
      "execution_count": 9,
      "metadata": {
        "id": "UtS0SqMELiCN"
      },
      "outputs": [],
      "source": [
        "# Step 2: Create stacked autoencoder model\n",
        "class Autoencoder(nn.Module):\n",
        "    def __init__(self, n, d1, d2, d3):\n",
        "        super(Autoencoder, self).__init__()\n",
        "        self.enc1 = nn.Linear(n, d1)\n",
        "        self.enc2 = nn.Linear(d1, d2)\n",
        "        self.enc3 = nn.Linear(d2, d3)\n",
        "        self.dec1 = nn.Linear(d3, d2)\n",
        "        self.dec2 = nn.Linear(d2, d1)\n",
        "        self.dec3 = nn.Linear(d1, n)\n",
        "\n",
        "    def encode(self, x):\n",
        "        h1 = F.relu(self.enc1(x))\n",
        "        h2 = F.relu(self.enc2(h1))\n",
        "        h3 = F.relu(self.enc3(h2))\n",
        "        return h3\n",
        "\n",
        "    def decode(self, z):\n",
        "        h3 = F.relu(self.dec1(z))\n",
        "        h2 = F.relu(self.dec2(h3))\n",
        "        return torch.sigmoid(self.dec3(h2))\n",
        "\n",
        "    def forward(self, x):\n",
        "        z = self.encode(x)\n",
        "        return self.decode(z)"
      ]
    },
    {
      "cell_type": "markdown",
      "metadata": {
        "id": "XPD6c7cQx_EX"
      },
      "source": [
        "### Define Loss"
      ]
    },
    {
      "cell_type": "code",
      "execution_count": 10,
      "metadata": {
        "id": "zYx6oDQRLnFT"
      },
      "outputs": [],
      "source": [
        "# Step 4: Construct pairwise similarity matrix\n",
        "O = torch.zeros((n, n))\n",
        "for i in range(n):\n",
        "    for j in range(n):\n",
        "        if y[i] == y[j]:\n",
        "           O[i][j] = 1"
      ]
    },
    {
      "cell_type": "code",
      "execution_count": 11,
      "metadata": {
        "id": "FqT9JGItONEo"
      },
      "outputs": [],
      "source": [
        "def find_reg_loss(Ht, Ht_1):\n",
        "   smoothness_loss = nn.MSELoss()(Ht, Ht_1)\n",
        "\n",
        "   return smoothness_loss"
      ]
    },
    {
      "cell_type": "code",
      "execution_count": 12,
      "metadata": {
        "id": "P2mceslbhoDO"
      },
      "outputs": [],
      "source": [
        "# Define a function to calculate the loss function\n",
        "def loss_function_LSE(O, H):\n",
        "    # Get the dimensions of O and H\n",
        "    n = O.shape[0]\n",
        "    K = H.shape[1]\n",
        "    # Compute the pairwise squared Euclidean distance between rows of H\n",
        "    D = torch.cdist(H, H, p=2) ** 2\n",
        "    # Multiply element-wise with O and sum up all the elements\n",
        "    loss = torch.sum(D * O)\n",
        "    # Return the final loss value\n",
        "    return loss\n"
      ]
    },
    {
      "cell_type": "markdown",
      "metadata": {
        "id": "1uzkU1AiyCM8"
      },
      "source": [
        "### Training"
      ]
    },
    {
      "cell_type": "code",
      "execution_count": 13,
      "metadata": {
        "id": "gMqwnplCLo-k",
        "colab": {
          "base_uri": "https://localhost:8080/",
          "height": 1000
        },
        "outputId": "a19fa93b-bdf6-4814-cf9e-e77d2b8f2c73"
      },
      "outputs": [
        {
          "output_type": "stream",
          "name": "stdout",
          "text": [
            "=========  Epoch=  1       loss=  82.18357849121094\n",
            "=========  Epoch=  2       loss=  34.66196060180664\n",
            "=========  Epoch=  3       loss=  17.571990966796875\n",
            "=========  Epoch=  4       loss=  10.282816886901855\n",
            "=========  Epoch=  5       loss=  6.569543838500977\n",
            "=========  Epoch=  6       loss=  4.661598205566406\n",
            "=========  Epoch=  7       loss=  3.7071497440338135\n",
            "=========  Epoch=  8       loss=  3.1989290714263916\n",
            "=========  Epoch=  9       loss=  2.830080032348633\n",
            "=========  Epoch=  10       loss=  2.488710403442383\n",
            "=========  Epoch=  11       loss=  2.168323516845703\n",
            "=========  Epoch=  12       loss=  1.875434398651123\n",
            "=========  Epoch=  13       loss=  1.6151846647262573\n",
            "=========  Epoch=  14       loss=  1.392111897468567\n",
            "=========  Epoch=  15       loss=  1.2001718282699585\n",
            "=========  Epoch=  16       loss=  1.0335023403167725\n",
            "=========  Epoch=  17       loss=  0.8911545276641846\n",
            "=========  Epoch=  18       loss=  0.7731920480728149\n",
            "=========  Epoch=  19       loss=  0.6764209270477295\n",
            "=========  Epoch=  20       loss=  0.5957963466644287\n",
            "=========  Epoch=  21       loss=  0.5259087681770325\n",
            "=========  Epoch=  22       loss=  0.46457532048225403\n",
            "=========  Epoch=  23       loss=  0.4105927646160126\n",
            "=========  Epoch=  24       loss=  0.3642825186252594\n",
            "=========  Epoch=  25       loss=  0.32525134086608887\n",
            "=========  Epoch=  26       loss=  0.2920271158218384\n",
            "=========  Epoch=  27       loss=  0.2628830075263977\n",
            "=========  Epoch=  28       loss=  0.2366063892841339\n",
            "=========  Epoch=  29       loss=  0.213369682431221\n",
            "=========  Epoch=  30       loss=  0.1930110901594162\n",
            "=========  Epoch=  31       loss=  0.17502173781394958\n",
            "=========  Epoch=  32       loss=  0.15880803763866425\n",
            "=========  Epoch=  33       loss=  0.14418447017669678\n",
            "=========  Epoch=  34       loss=  0.13082565367221832\n",
            "=========  Epoch=  35       loss=  0.11919011920690536\n",
            "=========  Epoch=  36       loss=  0.10901050269603729\n",
            "=========  Epoch=  37       loss=  0.0997123271226883\n",
            "=========  Epoch=  38       loss=  0.0914788544178009\n",
            "=========  Epoch=  39       loss=  0.08374643325805664\n",
            "=========  Epoch=  40       loss=  0.07711511850357056\n",
            "=========  Epoch=  41       loss=  0.07100940495729446\n",
            "=========  Epoch=  42       loss=  0.0652591660618782\n",
            "=========  Epoch=  43       loss=  0.06028410419821739\n",
            "=========  Epoch=  44       loss=  0.055640336126089096\n",
            "=========  Epoch=  45       loss=  0.051611825823783875\n",
            "=========  Epoch=  46       loss=  0.047931693494319916\n",
            "=========  Epoch=  47       loss=  0.044507041573524475\n",
            "=========  Epoch=  48       loss=  0.041110120713710785\n",
            "=========  Epoch=  49       loss=  0.038483113050460815\n",
            "=========  Epoch=  50       loss=  0.03607134148478508\n",
            "=========  Epoch=  51       loss=  0.0336068794131279\n",
            "=========  Epoch=  52       loss=  0.03142491355538368\n",
            "=========  Epoch=  53       loss=  0.029313258826732635\n",
            "=========  Epoch=  54       loss=  0.02752014808356762\n",
            "=========  Epoch=  55       loss=  0.025824613869190216\n",
            "=========  Epoch=  56       loss=  0.024305595085024834\n",
            "=========  Epoch=  57       loss=  0.022977961227297783\n",
            "=========  Epoch=  58       loss=  0.0216898825019598\n",
            "=========  Epoch=  59       loss=  0.020354827865958214\n",
            "=========  Epoch=  60       loss=  0.019316090270876884\n",
            "=========  Epoch=  61       loss=  0.01830073446035385\n",
            "=========  Epoch=  62       loss=  0.01711316406726837\n",
            "=========  Epoch=  63       loss=  0.016470231115818024\n",
            "=========  Epoch=  64       loss=  0.015688451007008553\n",
            "=========  Epoch=  65       loss=  0.014890385791659355\n",
            "=========  Epoch=  66       loss=  0.01422908529639244\n",
            "=========  Epoch=  67       loss=  0.013602995313704014\n",
            "=========  Epoch=  68       loss=  0.01297757402062416\n",
            "=========  Epoch=  69       loss=  0.012379182502627373\n",
            "=========  Epoch=  70       loss=  0.012139752507209778\n",
            "=========  Epoch=  71       loss=  0.011481374502182007\n",
            "=========  Epoch=  72       loss=  0.011028965935111046\n",
            "=========  Epoch=  73       loss=  0.010632526129484177\n",
            "=========  Epoch=  74       loss=  0.010259833186864853\n",
            "=========  Epoch=  75       loss=  0.009965815581381321\n",
            "=========  Epoch=  76       loss=  0.00957157276570797\n",
            "=========  Epoch=  77       loss=  0.009270187467336655\n",
            "=========  Epoch=  78       loss=  0.009101483039557934\n",
            "=========  Epoch=  79       loss=  0.008803412318229675\n",
            "=========  Epoch=  80       loss=  0.008571463637053967\n",
            "=========  Epoch=  81       loss=  0.008295482024550438\n",
            "=========  Epoch=  82       loss=  0.008297580294311047\n",
            "=========  Epoch=  83       loss=  0.007951801642775536\n",
            "=========  Epoch=  84       loss=  0.007605644874274731\n",
            "=========  Epoch=  85       loss=  0.0075490535236895084\n",
            "=========  Epoch=  86       loss=  0.007453113794326782\n",
            "=========  Epoch=  87       loss=  0.00744433980435133\n",
            "=========  Epoch=  88       loss=  0.007194587495177984\n",
            "=========  Epoch=  89       loss=  0.0069795818999409676\n",
            "=========  Epoch=  90       loss=  0.006974241230636835\n",
            "=========  Epoch=  91       loss=  0.006821376271545887\n",
            "=========  Epoch=  92       loss=  0.006759378127753735\n",
            "=========  Epoch=  93       loss=  0.006634518504142761\n",
            "=========  Epoch=  94       loss=  0.006665706634521484\n",
            "=========  Epoch=  95       loss=  0.006409549620002508\n",
            "=========  Epoch=  96       loss=  0.006229132413864136\n",
            "=========  Epoch=  97       loss=  0.006277433130890131\n",
            "=========  Epoch=  98       loss=  0.006209957413375378\n",
            "=========  Epoch=  99       loss=  0.006121191196143627\n",
            "=========  Epoch=  100       loss=  0.00597031693905592\n"
          ]
        },
        {
          "output_type": "display_data",
          "data": {
            "text/plain": [
              "<Figure size 640x480 with 1 Axes>"
            ],
            "image/png": "[encoded data removed]"
          },
          "metadata": {}
        }
      ],
      "source": [
        "autoencoder = Autoencoder(n, d1, d2, d3)\n",
        "opt = torch.optim.Adam(autoencoder.parameters(), lr=1e-3)\n",
        "St =  torch.from_numpy(S_t[0])\n",
        "St_1 =  torch.from_numpy(S_t[1])\n",
        "St = St.type(torch.FloatTensor)\n",
        "St_1 = St_1.type(torch.FloatTensor)\n",
        "total_loss = []\n",
        "num_epochs = 100\n",
        "\n",
        "for epoch in range(num_epochs):\n",
        "\n",
        "  z = autoencoder(St)\n",
        "  #print(z.shape)\n",
        "\n",
        "  # Reconstruction loss\n",
        "  recon_loss = F.mse_loss(z, St)\n",
        "\n",
        "  # Get embeddings\n",
        "  Ht = autoencoder.encode(St)\n",
        "  Ht_1 = autoencoder.encode(St_1)\n",
        "  #print(Ht.shape)\n",
        "  #print(Ht_1.shape)\n",
        "\n",
        "  # Loss\n",
        "  reg_loss = find_reg_loss(Ht, Ht_1)\n",
        "  loss1 = loss_function_LSE(O, Ht)\n",
        "  lambda_ = 0.1\n",
        "\n",
        "  # Total loss\n",
        "  loss = recon_loss + (1-lambda_ ) * reg_loss+ + lambda_ * loss1\n",
        "  print(\"=========  Epoch= \",epoch+1,\"      loss= \",loss.item())\n",
        "  if(len(total_loss)>0):\n",
        "    if(torch.abs(total_loss[len(total_loss)-1]-loss)<1e-10):\n",
        "      break\n",
        "  total_loss.append(loss.item())\n",
        "\n",
        "\n",
        "  # Backward\n",
        "  loss.backward()\n",
        "  opt.step()\n",
        "\n",
        "  # Reset gradients\n",
        "  opt.zero_grad()\n",
        "\n",
        "# Plot loss history\n",
        "plt.plot(total_loss)\n",
        "plt.ylabel('Reconstruction Loss')\n",
        "plt.xlabel('Epochs')\n",
        "plt.show()"
      ]
    },
    {
      "cell_type": "code",
      "execution_count": 14,
      "metadata": {
        "id": "bVdJWi6kvwEL"
      },
      "outputs": [],
      "source": [
        "torch.save(autoencoder, 'autoencoder.pth')"
      ]
    },
    {
      "cell_type": "markdown",
      "metadata": {
        "id": "OKgE6BUjyFVm"
      },
      "source": [
        "### Find Embedding"
      ]
    },
    {
      "cell_type": "code",
      "execution_count": 15,
      "metadata": {
        "id": "-p9Hqlb-eYXp"
      },
      "outputs": [],
      "source": [
        "# Step 7: Extract embeddings\n",
        "with torch.no_grad():\n",
        "    z = autoencoder.encode(St)"
      ]
    },
    {
      "cell_type": "markdown",
      "metadata": {
        "id": "IuW98eGmyISy"
      },
      "source": [
        "### Clustring and Evaluating"
      ]
    },
    {
      "cell_type": "code",
      "execution_count": 16,
      "metadata": {
        "id": "gW_c6husedSc",
        "colab": {
          "base_uri": "https://localhost:8080/"
        },
        "outputId": "ba82037b-75bc-4b62-9841-5dba1a6e53d6"
      },
      "outputs": [
        {
          "output_type": "stream",
          "name": "stderr",
          "text": [
            "/usr/local/lib/python3.10/dist-packages/sklearn/cluster/_kmeans.py:870: FutureWarning: The default value of `n_init` will change from 10 to 'auto' in 1.4. Set the value of `n_init` explicitly to suppress the warning\n",
            "  warnings.warn(\n"
          ]
        }
      ],
      "source": [
        "# Step 8: Cluster with k-means\n",
        "pred = KMeans(n_clusters=y.max().item()+1).fit_predict(z.numpy())"
      ]
    },
    {
      "cell_type": "code",
      "execution_count": 17,
      "metadata": {
        "id": "-l3cIuLuex1u",
        "colab": {
          "base_uri": "https://localhost:8080/"
        },
        "outputId": "9354406b-c1a6-4892-a6ba-70f7aefa6740"
      },
      "outputs": [
        {
          "output_type": "stream",
          "name": "stdout",
          "text": [
            "NMI:  1.0\n"
          ]
        }
      ],
      "source": [
        "nmi = normalized_mutual_info_score(y, pred)\n",
        "print(\"NMI: \", nmi)"
      ]
    }
  ],
  "metadata": {
    "accelerator": "GPU",
    "colab": {
      "provenance": [],
      "gpuType": "T4"
    },
    "kernelspec": {
      "display_name": "Python 3",
      "name": "python3"
    },
    "language_info": {
      "name": "python"
    }
  },
  "nbformat": 4,
  "nbformat_minor": 0
}